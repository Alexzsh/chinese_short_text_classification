{
 "cells": [
  {
   "cell_type": "code",
   "execution_count": 0,
   "metadata": {
    "id": "jA_ntVSiqe52",
    "colab_type": "code",
    "colab": {
     "autoexec": {
      "startup": false,
      "wait_interval": 0.0
     }
    }
   },
   "outputs": [],
   "source": [
    "!ls"
   ]
  },
  {
   "cell_type": "code",
   "execution_count": 34,
   "metadata": {
    "id": "uKCtVOdtRa8J",
    "colab_type": "code",
    "colab": {
     "autoexec": {
      "startup": false,
      "wait_interval": 0.0
     },
     "base_uri": "https://localhost:8080/",
     "height": 34.0
    },
    "outputId": "cd38817d-137b-405f-983d-70b47d99f8ac",
    "executionInfo": {
     "status": "ok",
     "timestamp": 1.525355930374E12,
     "user_tz": -480.0,
     "elapsed": 1134.0,
     "user": {
      "displayName": "alex",
      "photoUrl": "//lh3.googleusercontent.com/-ZTU2E2AV45k/AAAAAAAAAAI/AAAAAAAAAA8/rtnlfgZpEW0/s50-c-k-no/photo.jpg",
      "userId": "112884759944851295809"
     }
    }
   },
   "outputs": [
    {
     "name": "stdout",
     "output_type": "stream",
     "text": [
      "Found GPU at: /device:GPU:0\n"
     ]
    }
   ],
   "source": [
    "import tensorflow as tf\n",
    "device_name = tf.test.gpu_device_name()\n",
    "if device_name != '/device:GPU:0':\n",
    "  raise SystemError('GPU device not found')\n",
    "print('Found GPU at: {}'.format(device_name))"
   ]
  },
  {
   "cell_type": "code",
   "execution_count": 6,
   "metadata": {
    "id": "pRDn-HYoricG",
    "colab_type": "code",
    "colab": {
     "autoexec": {
      "startup": false,
      "wait_interval": 0.0
     },
     "base_uri": "https://localhost:8080/",
     "height": 105.0
    },
    "outputId": "458111ce-91e8-49ff-a522-1d40ad46d170",
    "executionInfo": {
     "status": "ok",
     "timestamp": 1.525396112143E12,
     "user_tz": -480.0,
     "elapsed": 18481.0,
     "user": {
      "displayName": "alex",
      "photoUrl": "//lh3.googleusercontent.com/-ZTU2E2AV45k/AAAAAAAAAAI/AAAAAAAAAA8/rtnlfgZpEW0/s50-c-k-no/photo.jpg",
      "userId": "112884759944851295809"
     }
    }
   },
   "outputs": [
    {
     "name": "stdout",
     "output_type": "stream",
     "text": [
      "Please, open the following URL in a web browser: https://accounts.google.com/o/oauth2/auth?client_id=32555940559.apps.googleusercontent.com&redirect_uri=urn%3Aietf%3Awg%3Aoauth%3A2.0%3Aoob&scope=https%3A%2F%2Fwww.googleapis.com%2Fauth%2Fdrive&response_type=code&access_type=offline&approval_prompt=force\r\n",
      "··········\n",
      "Please, open the following URL in a web browser: https://accounts.google.com/o/oauth2/auth?client_id=32555940559.apps.googleusercontent.com&redirect_uri=urn%3Aietf%3Awg%3Aoauth%3A2.0%3Aoob&scope=https%3A%2F%2Fwww.googleapis.com%2Fauth%2Fdrive&response_type=code&access_type=offline&approval_prompt=force\n",
      "Please enter the verification code: Access token retrieved correctly.\n"
     ]
    }
   ],
   "source": [
    "!apt-get install -y -qq software-properties-common python-software-properties module-init-tools\n",
    "!add-apt-repository -y ppa:alessandro-strada/ppa 2>&1 > /dev/null\n",
    "!apt-get update -qq 2>&1 > /dev/null\n",
    "!apt-get -y install -qq google-drive-ocamlfuse fuse\n",
    "from google.colab import auth\n",
    "auth.authenticate_user()\n",
    "from oauth2client.client import GoogleCredentials\n",
    "creds = GoogleCredentials.get_application_default()\n",
    "import getpass\n",
    "!google-drive-ocamlfuse -headless -id={creds.client_id} -secret={creds.client_secret} < /dev/null 2>&1 | grep URL\n",
    "vcode = getpass.getpass()\n",
    "!echo {vcode} | google-drive-ocamlfuse -headless -id={creds.client_id} -secret={creds.client_secret}"
   ]
  },
  {
   "cell_type": "code",
   "execution_count": 0,
   "metadata": {
    "id": "MAOzeDSJsrJF",
    "colab_type": "code",
    "colab": {
     "autoexec": {
      "startup": false,
      "wait_interval": 0.0
     }
    }
   },
   "outputs": [],
   "source": [
    "!mkdir -p drive\n",
    "!google-drive-ocamlfuse drive  -o nonempty"
   ]
  },
  {
   "cell_type": "code",
   "execution_count": 8,
   "metadata": {
    "id": "r9ODliItsrrk",
    "colab_type": "code",
    "colab": {
     "autoexec": {
      "startup": false,
      "wait_interval": 0.0
     },
     "base_uri": "https://localhost:8080/",
     "height": 34.0
    },
    "outputId": "12500e85-fb3c-4b65-c336-be30cc69a419",
    "executionInfo": {
     "status": "ok",
     "timestamp": 1.525396124483E12,
     "user_tz": -480.0,
     "elapsed": 2380.0,
     "user": {
      "displayName": "alex",
      "photoUrl": "//lh3.googleusercontent.com/-ZTU2E2AV45k/AAAAAAAAAAI/AAAAAAAAAA8/rtnlfgZpEW0/s50-c-k-no/photo.jpg",
      "userId": "112884759944851295809"
     }
    }
   },
   "outputs": [
    {
     "name": "stdout",
     "output_type": "stream",
     "text": [
      "\u001b[0m\u001b[01;34mdatalab\u001b[0m/  \u001b[01;34mdrive\u001b[0m/\r\n"
     ]
    }
   ],
   "source": [
    "ls"
   ]
  },
  {
   "cell_type": "code",
   "execution_count": 9,
   "metadata": {
    "id": "5CTm_hqEsuIV",
    "colab_type": "code",
    "colab": {
     "autoexec": {
      "startup": false,
      "wait_interval": 0.0
     },
     "base_uri": "https://localhost:8080/",
     "height": 34.0
    },
    "outputId": "c89c07b7-7170-4f3a-afc8-79aa7389ec00",
    "executionInfo": {
     "status": "ok",
     "timestamp": 1.525396145056E12,
     "user_tz": -480.0,
     "elapsed": 713.0,
     "user": {
      "displayName": "alex",
      "photoUrl": "//lh3.googleusercontent.com/-ZTU2E2AV45k/AAAAAAAAAAI/AAAAAAAAAA8/rtnlfgZpEW0/s50-c-k-no/photo.jpg",
      "userId": "112884759944851295809"
     }
    }
   },
   "outputs": [
    {
     "name": "stdout",
     "output_type": "stream",
     "text": [
      "/content/drive/app/text-classification-cnn-rnn\n"
     ]
    }
   ],
   "source": [
    "cd drive/app/text-classification-cnn-rnn/"
   ]
  },
  {
   "cell_type": "code",
   "execution_count": 48,
   "metadata": {
    "id": "CS8TWyZEsyJV",
    "colab_type": "code",
    "colab": {
     "autoexec": {
      "startup": false,
      "wait_interval": 0.0
     },
     "base_uri": "https://localhost:8080/",
     "height": 34.0
    },
    "outputId": "8d40acd6-009d-4aee-a12c-0812bbfddf3a",
    "executionInfo": {
     "status": "ok",
     "timestamp": 1.525356877889E12,
     "user_tz": -480.0,
     "elapsed": 1322.0,
     "user": {
      "displayName": "alex",
      "photoUrl": "//lh3.googleusercontent.com/-ZTU2E2AV45k/AAAAAAAAAAI/AAAAAAAAAA8/rtnlfgZpEW0/s50-c-k-no/photo.jpg",
      "userId": "112884759944851295809"
     }
    }
   },
   "outputs": [
    {
     "name": "stdout",
     "output_type": "stream",
     "text": [
      "/content/datalab/drive/drive/app/text-classification-cnn-rnn/data/cnews\n"
     ]
    }
   ],
   "source": [
    "cd app/text-classification-cnn-rnn/data/cnews/"
   ]
  },
  {
   "cell_type": "code",
   "execution_count": 10,
   "metadata": {
    "id": "IEtW1V4bWugi",
    "colab_type": "code",
    "colab": {
     "autoexec": {
      "startup": false,
      "wait_interval": 0.0
     },
     "base_uri": "https://localhost:8080/",
     "height": 68.0
    },
    "outputId": "79c5e72b-a40b-4689-8e48-2f8bb8fad920",
    "executionInfo": {
     "status": "ok",
     "timestamp": 1.525396149155E12,
     "user_tz": -480.0,
     "elapsed": 2001.0,
     "user": {
      "displayName": "alex",
      "photoUrl": "//lh3.googleusercontent.com/-ZTU2E2AV45k/AAAAAAAAAAI/AAAAAAAAAA8/rtnlfgZpEW0/s50-c-k-no/photo.jpg",
      "userId": "112884759944851295809"
     }
    }
   },
   "outputs": [
    {
     "name": "stdout",
     "output_type": "stream",
     "text": [
      "\u001b[0m\u001b[01;34mcheckpoints\u001b[0m/  \u001b[01;34mhelper\u001b[0m/  predict.py    requirements.txt  run_rnn.py\r\n",
      "cnn_model.py  \u001b[01;34mimages\u001b[0m/  \u001b[01;34m__pycache__\u001b[0m/  rnn_model.py      \u001b[01;34mtensorboard\u001b[0m/\r\n",
      "\u001b[01;34mdata\u001b[0m/         LICENSE  README.md     run_cnn.py        TextCNN.ipynb\r\n"
     ]
    }
   ],
   "source": [
    "ls"
   ]
  },
  {
   "cell_type": "code",
   "execution_count": 0,
   "metadata": {
    "id": "-OEYpmcrszHE",
    "colab_type": "code",
    "colab": {
     "autoexec": {
      "startup": false,
      "wait_interval": 0.0
     },
     "base_uri": "https://localhost:8080/",
     "height": 734.0
    },
    "outputId": "fa928ef3-cb5b-4c16-e9e9-f2c3029a9b5e"
   },
   "outputs": [
    {
     "name": "stdout",
     "output_type": "stream",
     "text": [
      "/usr/local/lib/python3.6/dist-packages/h5py/__init__.py:36: FutureWarning: Conversion of the second argument of issubdtype from `float` to `np.floating` is deprecated. In future, it will be treated as `np.float64 == np.dtype(float).type`.\r\n",
      "  from ._conv import register_converters as _register_converters\n",
      "Configuring RNN model...\n",
      "WARNING:tensorflow:From /content/drive/app/text-classification-cnn-rnn/rnn_model.py:82: softmax_cross_entropy_with_logits (from tensorflow.python.ops.nn_ops) is deprecated and will be removed in a future version.\n",
      "Instructions for updating:\n",
      "\n",
      "Future major versions of TensorFlow will allow gradients to flow\n",
      "into the labels input on backprop by default.\n",
      "\n",
      "See tf.nn.softmax_cross_entropy_with_logits_v2.\n",
      "\n",
      "Configuring TensorBoard and Saver...\n",
      "Loading training and validation data...\n",
      "Time usage: 0:00:02\n",
      "2018-05-04 01:22:00.460566: I tensorflow/stream_executor/cuda/cuda_gpu_executor.cc:898] successful NUMA node read from SysFS had negative value (-1), but there must be at least one NUMA node, so returning NUMA node zero\n",
      "2018-05-04 01:22:00.461021: I tensorflow/core/common_runtime/gpu/gpu_device.cc:1344] Found device 0 with properties: \n",
      "name: Tesla K80 major: 3 minor: 7 memoryClockRate(GHz): 0.8235\n",
      "pciBusID: 0000:00:04.0\n",
      "totalMemory: 11.17GiB freeMemory: 11.10GiB\n",
      "2018-05-04 01:22:00.461060: I tensorflow/core/common_runtime/gpu/gpu_device.cc:1423] Adding visible gpu devices: 0\n",
      "2018-05-04 01:22:00.712405: I tensorflow/core/common_runtime/gpu/gpu_device.cc:911] Device interconnect StreamExecutor with strength 1 edge matrix:\n",
      "2018-05-04 01:22:00.712464: I tensorflow/core/common_runtime/gpu/gpu_device.cc:917]      0 \n",
      "2018-05-04 01:22:00.712489: I tensorflow/core/common_runtime/gpu/gpu_device.cc:930] 0:   N \n",
      "2018-05-04 01:22:00.712845: I tensorflow/core/common_runtime/gpu/gpu_device.cc:1041] Created TensorFlow device (/job:localhost/replica:0/task:0/device:GPU:0 with 10765 MB memory) -> physical GPU (device: 0, name: Tesla K80, pci bus id: 0000:00:04.0, compute capability: 3.7)\n",
      "Training and evaluating...\n",
      "Epoch: 1\n",
      "Iter:      0, Train Loss:    2.3, Train Acc:   3.12%, Val Loss:    2.3, Val Acc:   6.93%, Time: 0:01:05 *\n",
      "Iter:    100, Train Loss:   0.67, Train Acc:  78.91%, Val Loss:   0.86, Val Acc:  72.87%, Time: 0:05:05 *\n",
      "Iter:    200, Train Loss:   0.57, Train Acc:  80.47%, Val Loss:   0.55, Val Acc:  83.49%, Time: 0:09:02 *\n",
      "Iter:    300, Train Loss:   0.52, Train Acc:  84.38%, Val Loss:   0.48, Val Acc:  85.60%, Time: 0:12:58 *\n",
      "Epoch: 2\n",
      "Iter:    400, Train Loss:   0.38, Train Acc:  88.28%, Val Loss:   0.45, Val Acc:  86.69%, Time: 0:17:00 *\n",
      "Iter:    500, Train Loss:   0.34, Train Acc:  88.28%, Val Loss:   0.42, Val Acc:  87.92%, Time: 0:20:58 *\n",
      "Iter:    600, Train Loss:   0.35, Train Acc:  87.50%, Val Loss:   0.41, Val Acc:  87.95%, Time: 0:24:56 *\n",
      "Iter:    700, Train Loss:   0.49, Train Acc:  85.16%, Val Loss:    0.4, Val Acc:  88.87%, Time: 0:28:55 *\n",
      "Epoch: 3\n",
      "Iter:    800, Train Loss:    0.3, Train Acc:  90.62%, Val Loss:   0.39, Val Acc:  88.88%, Time: 0:32:57 *\n",
      "Iter:    900, Train Loss:   0.37, Train Acc:  89.06%, Val Loss:    0.4, Val Acc:  88.53%, Time: 0:36:40 \n",
      "Iter:   1000, Train Loss:   0.43, Train Acc:  88.28%, Val Loss:   0.39, Val Acc:  88.94%, Time: 0:40:42 *\n",
      "Iter:   1100, Train Loss:   0.35, Train Acc:  88.28%, Val Loss:   0.39, Val Acc:  88.85%, Time: 0:44:25 \n",
      "Epoch: 4\n"
     ]
    }
   ],
   "source": [
    "!python run_rnn.py train"
   ]
  },
  {
   "cell_type": "code",
   "execution_count": 12,
   "metadata": {
    "id": "QJl7hTd8vQBR",
    "colab_type": "code",
    "colab": {
     "autoexec": {
      "startup": false,
      "wait_interval": 0.0
     },
     "base_uri": "https://localhost:8080/",
     "height": 802.0
    },
    "outputId": "b8b8a9db-1c68-4231-e668-6616088dd85b",
    "executionInfo": {
     "status": "ok",
     "timestamp": 1.52539665199E12,
     "user_tz": -480.0,
     "elapsed": 15871.0,
     "user": {
      "displayName": "alex",
      "photoUrl": "//lh3.googleusercontent.com/-ZTU2E2AV45k/AAAAAAAAAAI/AAAAAAAAAA8/rtnlfgZpEW0/s50-c-k-no/photo.jpg",
      "userId": "112884759944851295809"
     }
    }
   },
   "outputs": [
    {
     "name": "stdout",
     "output_type": "stream",
     "text": [
      "/usr/local/lib/python3.6/dist-packages/h5py/__init__.py:36: FutureWarning: Conversion of the second argument of issubdtype from `float` to `np.floating` is deprecated. In future, it will be treated as `np.float64 == np.dtype(float).type`.\r\n",
      "  from ._conv import register_converters as _register_converters\n",
      "Configuring CNN model...\n",
      "WARNING:tensorflow:From /usr/local/lib/python3.6/dist-packages/tensorflow/python/util/deprecation.py:497: calling conv1d (from tensorflow.python.ops.nn_ops) with data_format=NHWC is deprecated and will be removed in a future version.\n",
      "Instructions for updating:\n",
      "`NHWC` for data_format is deprecated, use `NWC` instead\n",
      "WARNING:tensorflow:From /content/drive/app/text-classification-cnn-rnn/cnn_model.py:67: softmax_cross_entropy_with_logits (from tensorflow.python.ops.nn_ops) is deprecated and will be removed in a future version.\n",
      "Instructions for updating:\n",
      "\n",
      "Future major versions of TensorFlow will allow gradients to flow\n",
      "into the labels input on backprop by default.\n",
      "\n",
      "See tf.nn.softmax_cross_entropy_with_logits_v2.\n",
      "\n",
      "Loading test data...\n",
      "Testing...\n",
      "Test Loss:   0.34, Test Acc:  90.28%\n",
      "Precision, Recall and F1-Score...\n",
      "             precision    recall  f1-score   support\n",
      "\n",
      "       服饰内衣       0.88      0.79      0.83      1000\n",
      "         图书       0.96      0.98      0.97      1000\n",
      "       汽车用品       0.95      0.96      0.96      1000\n",
      "       运动户外       0.80      0.77      0.78      1000\n",
      "       家装建材       0.87      0.87      0.87      1000\n",
      "       礼品箱包       0.87      0.91      0.89      1000\n",
      "      电脑、办公       0.90      0.92      0.91      1000\n",
      "         家具       0.95      0.97      0.96      1000\n",
      "         母婴       0.91      0.93      0.92      1000\n",
      "         鞋靴       0.93      0.94      0.93      1000\n",
      "\n",
      "avg / total       0.90      0.90      0.90     10000\n",
      "\n",
      "Confusion Matrix...\n",
      "[[785   7   5 112   4  29   9   1  38  10]\n",
      " [  0 978   0   4   3   2   9   2   2   0]\n",
      " [  3   1 960   1  24   3   3   0   4   1]\n",
      " [ 57   5   8 765  35  31   8  20  32  39]\n",
      " [  4   6  21  20 874  14  35  13   1  12]\n",
      " [  3   5   5  10  24 909  28  12   2   2]\n",
      " [  4  13   2   1  27  27 919   5   1   1]\n",
      " [  1   0   2   3   6   3  10 972   1   2]\n",
      " [ 25   2   0  20   2  17   1   0 927   6]\n",
      " [ 10   1   4  22   5  12   0   1   6 939]]\n",
      "Time usage: 0:00:06\n"
     ]
    }
   ],
   "source": [
    "!python run_cnn.py test"
   ]
  },
  {
   "cell_type": "code",
   "execution_count": 13,
   "metadata": {
    "id": "Hkm1O2YNxx8w",
    "colab_type": "code",
    "colab": {
     "autoexec": {
      "startup": false,
      "wait_interval": 0.0
     },
     "base_uri": "https://localhost:8080/",
     "height": 1431.0
    },
    "outputId": "5c63f77d-91c1-487e-91ec-35c0ce8bc8c2",
    "executionInfo": {
     "status": "ok",
     "timestamp": 1.525396687633E12,
     "user_tz": -480.0,
     "elapsed": 13640.0,
     "user": {
      "displayName": "alex",
      "photoUrl": "//lh3.googleusercontent.com/-ZTU2E2AV45k/AAAAAAAAAAI/AAAAAAAAAA8/rtnlfgZpEW0/s50-c-k-no/photo.jpg",
      "userId": "112884759944851295809"
     }
    }
   },
   "outputs": [
    {
     "name": "stdout",
     "output_type": "stream",
     "text": [
      "/usr/local/lib/python3.6/dist-packages/h5py/__init__.py:36: FutureWarning: Conversion of the second argument of issubdtype from `float` to `np.floating` is deprecated. In future, it will be treated as `np.float64 == np.dtype(float).type`.\r\n",
      "  from ._conv import register_converters as _register_converters\n",
      "WARNING:tensorflow:From /content/drive/app/text-classification-cnn-rnn/rnn_model.py:82: softmax_cross_entropy_with_logits (from tensorflow.python.ops.nn_ops) is deprecated and will be removed in a future version.\n",
      "Instructions for updating:\n",
      "\n",
      "Future major versions of TensorFlow will allow gradients to flow\n",
      "into the labels input on backprop by default.\n",
      "\n",
      "See tf.nn.softmax_cross_entropy_with_logits_v2.\n",
      "\n",
      "2018-05-04 01:18:05.405136: I tensorflow/stream_executor/cuda/cuda_gpu_executor.cc:898] successful NUMA node read from SysFS had negative value (-1), but there must be at least one NUMA node, so returning NUMA node zero\n",
      "2018-05-04 01:18:05.405672: I tensorflow/core/common_runtime/gpu/gpu_device.cc:1344] Found device 0 with properties: \n",
      "name: Tesla K80 major: 3 minor: 7 memoryClockRate(GHz): 0.8235\n",
      "pciBusID: 0000:00:04.0\n",
      "totalMemory: 11.17GiB freeMemory: 11.10GiB\n",
      "2018-05-04 01:18:05.405741: I tensorflow/core/common_runtime/gpu/gpu_device.cc:1423] Adding visible gpu devices: 0\n",
      "2018-05-04 01:18:05.790473: I tensorflow/core/common_runtime/gpu/gpu_device.cc:911] Device interconnect StreamExecutor with strength 1 edge matrix:\n",
      "2018-05-04 01:18:05.790563: I tensorflow/core/common_runtime/gpu/gpu_device.cc:917]      0 \n",
      "2018-05-04 01:18:05.790594: I tensorflow/core/common_runtime/gpu/gpu_device.cc:930] 0:   N \n",
      "2018-05-04 01:18:05.790953: I tensorflow/core/common_runtime/gpu/gpu_device.cc:1041] Created TensorFlow device (/job:localhost/replica:0/task:0/device:GPU:0 with 10765 MB memory) -> physical GPU (device: 0, name: Tesla K80, pci bus id: 0000:00:04.0, compute capability: 3.7)\n",
      "2018-05-04 01:18:06.265351: W tensorflow/core/framework/op_kernel.cc:1273] OP_REQUIRES failed at save_restore_v2_ops.cc:184 : Not found: Key rnn/multi_rnn_cell/cell_0/gru_cell/candidate/bias not found in checkpoint\n",
      "Traceback (most recent call last):\n",
      "  File \"/usr/local/lib/python3.6/dist-packages/tensorflow/python/client/session.py\", line 1327, in _do_call\n",
      "    return fn(*args)\n",
      "  File \"/usr/local/lib/python3.6/dist-packages/tensorflow/python/client/session.py\", line 1312, in _run_fn\n",
      "    options, feed_dict, fetch_list, target_list, run_metadata)\n",
      "  File \"/usr/local/lib/python3.6/dist-packages/tensorflow/python/client/session.py\", line 1420, in _call_tf_sessionrun\n",
      "    status, run_metadata)\n",
      "  File \"/usr/local/lib/python3.6/dist-packages/tensorflow/python/framework/errors_impl.py\", line 516, in __exit__\n",
      "    c_api.TF_GetCode(self.status.status))\n",
      "tensorflow.python.framework.errors_impl.NotFoundError: Key rnn/multi_rnn_cell/cell_0/gru_cell/candidate/bias not found in checkpoint\n",
      "\t [[Node: save/RestoreV2 = RestoreV2[dtypes=[DT_FLOAT, DT_FLOAT, DT_FLOAT, DT_FLOAT, DT_FLOAT, ..., DT_FLOAT, DT_FLOAT, DT_FLOAT, DT_FLOAT, DT_FLOAT], _device=\"/job:localhost/replica:0/task:0/device:CPU:0\"](_arg_save/Const_0_0, save/RestoreV2/tensor_names, save/RestoreV2/shape_and_slices)]]\n",
      "\n",
      "During handling of the above exception, another exception occurred:\n",
      "\n",
      "Traceback (most recent call last):\n",
      "  File \"predict.py\", line 52, in <module>\n",
      "    cnn_model = CnnModel()\n",
      "  File \"predict.py\", line 35, in __init__\n",
      "    saver.restore(sess=self.session, save_path=save_path)  # 读取保存的模型\n",
      "  File \"/usr/local/lib/python3.6/dist-packages/tensorflow/python/training/saver.py\", line 1775, in restore\n",
      "    {self.saver_def.filename_tensor_name: save_path})\n",
      "  File \"/usr/local/lib/python3.6/dist-packages/tensorflow/python/client/session.py\", line 905, in run\n",
      "    run_metadata_ptr)\n",
      "  File \"/usr/local/lib/python3.6/dist-packages/tensorflow/python/client/session.py\", line 1140, in _run\n",
      "    feed_dict_tensor, options, run_metadata)\n",
      "  File \"/usr/local/lib/python3.6/dist-packages/tensorflow/python/client/session.py\", line 1321, in _do_run\n",
      "    run_metadata)\n",
      "  File \"/usr/local/lib/python3.6/dist-packages/tensorflow/python/client/session.py\", line 1340, in _do_call\n",
      "    raise type(e)(node_def, op, message)\n",
      "tensorflow.python.framework.errors_impl.NotFoundError: Key rnn/multi_rnn_cell/cell_0/gru_cell/candidate/bias not found in checkpoint\n",
      "\t [[Node: save/RestoreV2 = RestoreV2[dtypes=[DT_FLOAT, DT_FLOAT, DT_FLOAT, DT_FLOAT, DT_FLOAT, ..., DT_FLOAT, DT_FLOAT, DT_FLOAT, DT_FLOAT, DT_FLOAT], _device=\"/job:localhost/replica:0/task:0/device:CPU:0\"](_arg_save/Const_0_0, save/RestoreV2/tensor_names, save/RestoreV2/shape_and_slices)]]\n",
      "\n",
      "Caused by op 'save/RestoreV2', defined at:\n",
      "  File \"predict.py\", line 52, in <module>\n",
      "    cnn_model = CnnModel()\n",
      "  File \"predict.py\", line 34, in __init__\n",
      "    saver = tf.train.Saver()\n",
      "  File \"/usr/local/lib/python3.6/dist-packages/tensorflow/python/training/saver.py\", line 1311, in __init__\n",
      "    self.build()\n",
      "  File \"/usr/local/lib/python3.6/dist-packages/tensorflow/python/training/saver.py\", line 1320, in build\n",
      "    self._build(self._filename, build_save=True, build_restore=True)\n",
      "  File \"/usr/local/lib/python3.6/dist-packages/tensorflow/python/training/saver.py\", line 1357, in _build\n",
      "    build_save=build_save, build_restore=build_restore)\n",
      "  File \"/usr/local/lib/python3.6/dist-packages/tensorflow/python/training/saver.py\", line 809, in _build_internal\n",
      "    restore_sequentially, reshape)\n",
      "  File \"/usr/local/lib/python3.6/dist-packages/tensorflow/python/training/saver.py\", line 448, in _AddRestoreOps\n",
      "    restore_sequentially)\n",
      "  File \"/usr/local/lib/python3.6/dist-packages/tensorflow/python/training/saver.py\", line 860, in bulk_restore\n",
      "    return io_ops.restore_v2(filename_tensor, names, slices, dtypes)\n",
      "  File \"/usr/local/lib/python3.6/dist-packages/tensorflow/python/ops/gen_io_ops.py\", line 1458, in restore_v2\n",
      "    shape_and_slices=shape_and_slices, dtypes=dtypes, name=name)\n",
      "  File \"/usr/local/lib/python3.6/dist-packages/tensorflow/python/framework/op_def_library.py\", line 787, in _apply_op_helper\n",
      "    op_def=op_def)\n",
      "  File \"/usr/local/lib/python3.6/dist-packages/tensorflow/python/framework/ops.py\", line 3290, in create_op\n",
      "    op_def=op_def)\n",
      "  File \"/usr/local/lib/python3.6/dist-packages/tensorflow/python/framework/ops.py\", line 1654, in __init__\n",
      "    self._traceback = self._graph._extract_stack()  # pylint: disable=protected-access\n",
      "\n",
      "NotFoundError (see above for traceback): Key rnn/multi_rnn_cell/cell_0/gru_cell/candidate/bias not found in checkpoint\n",
      "\t [[Node: save/RestoreV2 = RestoreV2[dtypes=[DT_FLOAT, DT_FLOAT, DT_FLOAT, DT_FLOAT, DT_FLOAT, ..., DT_FLOAT, DT_FLOAT, DT_FLOAT, DT_FLOAT, DT_FLOAT], _device=\"/job:localhost/replica:0/task:0/device:CPU:0\"](_arg_save/Const_0_0, save/RestoreV2/tensor_names, save/RestoreV2/shape_and_slices)]]\n",
      "\n"
     ]
    }
   ],
   "source": [
    "!python predict.py"
   ]
  },
  {
   "cell_type": "code",
   "execution_count": 0,
   "metadata": {
    "id": "bn8ScXozlx9O",
    "colab_type": "code",
    "colab": {
     "autoexec": {
      "startup": false,
      "wait_interval": 0.0
     }
    }
   },
   "outputs": [],
   "source": [
    ""
   ]
  }
 ],
 "metadata": {
  "colab": {
   "name": "TextCNN.ipynb",
   "version": "0.3.2",
   "views": {},
   "default_view": {},
   "provenance": [],
   "toc_visible": true
  },
  "kernelspec": {
   "name": "python3",
   "display_name": "Python 3"
  },
  "accelerator": "GPU"
 },
 "nbformat": 4,
 "nbformat_minor": 0
}